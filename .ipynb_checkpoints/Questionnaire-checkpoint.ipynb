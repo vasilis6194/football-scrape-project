{
 "cells": [
  {
   "cell_type": "markdown",
   "id": "946b2721",
   "metadata": {},
   "source": [
    "# 📝 Player Performance Questionnaire\n",
    "\n",
    "## ⚽ General Insights\n",
    "\n",
    "### 1. Top Scorers:\n",
    "- Who are the top 5 scorers for PAOK FC this season, and how do their contributions differ?  \n",
    "- How do Abdul Rahman Baba and Kiril Despodov compare in terms of total goals?\n",
    "\n",
    "### 2. Assists:\n",
    "- Who leads the team in assists, and how does their contribution enhance the team’s attacking potential?  \n",
    "- How does the performance of players with fewer assists, such as Konstantelias, impact team dynamics?\n",
    "\n",
    "### 3. Accuracy and Goals:\n",
    "- Which player has the highest accuracy and also ranks among the top goal scorers?  \n",
    "- What trends can you observe when comparing players' goals to their shooting accuracy percentages?\n",
    "\n",
    "### 4. Defensive Contributions:\n",
    "- Who are the leaders in defensive actions (steals and clearances)?  \n",
    "- What does the correlation between defensive actions and yellow cards suggest about player discipline?\n",
    "\n",
    "### 5. Minutes Played:\n",
    "- Which player has played the most minutes, and how consistent is their performance compared to their average minutes per game?  \n",
    "- How do younger or less experienced players (like Konstantelias) compare in terms of game time?\n",
    "\n",
    "### 6. Goal Contribution Percentage (🎯 Cards):\n",
    "- What does the comparison of Zivkovic's and Despodov’s goal contribution percentages reveal about their roles in the team?  \n",
    "- How can the team better utilize players with high goal contribution percentages?\n"
   ]
  }
 ],
 "metadata": {
  "kernelspec": {
   "display_name": "Python 3 (ipykernel)",
   "language": "python",
   "name": "python3"
  },
  "language_info": {
   "codemirror_mode": {
    "name": "ipython",
    "version": 3
   },
   "file_extension": ".py",
   "mimetype": "text/x-python",
   "name": "python",
   "nbconvert_exporter": "python",
   "pygments_lexer": "ipython3",
   "version": "3.12.3"
  }
 },
 "nbformat": 4,
 "nbformat_minor": 5
}
